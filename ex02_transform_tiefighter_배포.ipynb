{
  "nbformat": 4,
  "nbformat_minor": 0,
  "metadata": {
    "colab": {
      "provenance": [],
      "include_colab_link": true
    },
    "kernelspec": {
      "name": "python3",
      "display_name": "Python 3"
    },
    "language_info": {
      "name": "python"
    }
  },
  "cells": [
    {
      "cell_type": "markdown",
      "metadata": {
        "id": "view-in-github",
        "colab_type": "text"
      },
      "source": [
        "<a href=\"https://colab.research.google.com/github/DDinggi/-/blob/main/ex02_transform_tiefighter_%EB%B0%B0%ED%8F%AC.ipynb\" target=\"_parent\"><img src=\"https://colab.research.google.com/assets/colab-badge.svg\" alt=\"Open In Colab\"/></a>"
      ]
    },
    {
      "cell_type": "markdown",
      "source": [
        "### 라이브러리 선언"
      ],
      "metadata": {
        "id": "VcKvO8KcJ9AJ"
      }
    },
    {
      "cell_type": "code",
      "source": [
        "import numpy as np\n",
        "import matplotlib.pyplot as plt\n",
        "from matplotlib.patches import Polygon\n",
        "\n",
        "INF = 1000  # 그림판 크기\n",
        "LEN = 100   # 처음 사각형의 크기"
      ],
      "metadata": {
        "id": "uwkBDldBERem"
      },
      "execution_count": 1,
      "outputs": []
    },
    {
      "cell_type": "markdown",
      "source": [
        "### 축 그리기 및 사각형 그리기"
      ],
      "metadata": {
        "id": "eSiS-XHya1FY"
      }
    },
    {
      "cell_type": "code",
      "source": [
        "def draw_axis(ax):\n",
        "  ax.axhline(0, color='black', alpha=0.3)  # x-axis line\n",
        "  ax.axvline(0, color='black', alpha=0.3)  # y-axis line\n",
        "  ax.set_xlim(-INF, INF)\n",
        "  ax.set_ylim(-INF, INF)\n",
        "  ax.set_aspect('equal')  # 정사각형 모양으로 backboard 그리기"
      ],
      "metadata": {
        "id": "_fc5wJBeKXDN"
      },
      "execution_count": 2,
      "outputs": []
    },
    {
      "cell_type": "code",
      "source": [
        "def draw_rectangle(ax, p1, p2, p3, p4):\n",
        "  my_polygon = Polygon([p1, p2, p3, p4])\n",
        "  ax.add_patch(my_polygon)"
      ],
      "metadata": {
        "id": "0XC7sFs9Hf3e"
      },
      "execution_count": 3,
      "outputs": []
    },
    {
      "cell_type": "code",
      "source": [
        "def draw_object(ax):\n",
        "  p1 = np.array([0, 0])\n",
        "  p2 = np.array([LEN, 0])\n",
        "  p3 = np.array([LEN, LEN])\n",
        "  p4 = np.array([0, LEN])\n",
        "\n",
        "  draw_rectangle(ax, p1, p2, p3, p4)"
      ],
      "metadata": {
        "id": "9_fAE1_kPjsv"
      },
      "execution_count": 4,
      "outputs": []
    },
    {
      "cell_type": "code",
      "source": [
        "# 그림판 선언 및 크기 설정\n",
        "fig, ax = plt.subplots(figsize=(7,7))\n",
        "\n",
        "# 축 그리기\n",
        "draw_axis(ax)\n",
        "\n",
        "# 물체 그리기\n",
        "draw_cockpit(ax, p1, p2, p3, p4)\n",
        "\n",
        "plt.show()"
      ],
      "metadata": {
        "colab": {
          "base_uri": "https://localhost:8080/",
          "height": 605
        },
        "id": "L3r3ar9FQDKI",
        "outputId": "ebe361ed-061d-44c2-e81e-a298c1fe16be"
      },
      "execution_count": 5,
      "outputs": [
        {
          "output_type": "display_data",
          "data": {
            "text/plain": [
              "<Figure size 700x700 with 1 Axes>"
            ],
            "image/png": "[encoded data removed]"
          },
          "metadata": {}
        }
      ]
    },
    {
      "cell_type": "markdown",
      "source": [
        "### 본론\n",
        "#### 1. 변환 구현\n",
        "* translate(p, dx, dy)\n",
        "* rotate(p, theta)  \n",
        "* scale(p, sx, sy)  \n",
        "* shear_x(p, sx)  \n",
        "* shear_y(p, sy)  \n",
        "* reflect_x(p)  \n",
        "* reflect_y(p)   \n",
        "* ..."
      ],
      "metadata": {
        "id": "6txnl6M2PeUz"
      }
    },
    {
      "cell_type": "code",
      "source": [
        "# 점 p를 x축 방향으로 dx만큼, y축 방향으로 dy만큼 이동시킨 점 q를 구할 것\n",
        "# q = T(dx, dy) p1\n",
        "def translate(p, dx, dy):\n",
        "  # 1. 동차좌표계 (homogeneous coordinate)으로 변환\n",
        "  hp = np.array([p[0], p[1], 1.0])\n",
        "\n",
        "  # 2. 이동 변환 행렬 생성\n",
        "  m = np.array([[1.0, 0.0, dx], [0.0, 1.0, dy], [0.0, 0.0, 1.0]])\n",
        "  \n",
        "  # 3. 행렬과 벡터의 곱\n",
        "  q = np.dot(m, hp)  # (3,3) x (3,1) -> (3,1)\n",
        "  #print(q)\n",
        "\n",
        "  # 4. 2차원 좌표계로 변환\n",
        "  q = np.array([q[0], q[1]])\n",
        "  return q"
      ],
      "metadata": {
        "id": "g1iKgeNoP-Bu"
      },
      "execution_count": 6,
      "outputs": []
    },
    {
      "cell_type": "code",
      "source": [
        "# 점 p를 theta도만큼 회전시킨 점 q를 구할 것\n",
        "# q = T(dx, dy) p1\n",
        "def rotate(p, theta):\n",
        "  # 1. 동차좌표계 (homogeneous coordinate)으로 변환\n",
        "  hp = np.array([p[0], p[1], 1.0])\n",
        "\n",
        "  # 2. 이동 변환 행렬 생성\n",
        "  m = np.array([[math.cos(theta), -math.sin(theta), 0], [math.sin(theta), math.cos(theta), 0], [0.0, 0.0, 1.0]])\n",
        "  \n",
        "  # 3. 행렬과 벡터의 곱\n",
        "  q = np.dot(m, hp)  # (3,3) x (3,1) -> (3,1)\n",
        "  #print(q)\n",
        "\n",
        "  # 4. 2차원 좌표계로 변환\n",
        "  q = np.array([q[0], q[1]])\n",
        "  return q\n"
      ],
      "metadata": {
        "id": "hHqQjaiaX0Jn"
      },
      "execution_count": 10,
      "outputs": []
    },
    {
      "cell_type": "code",
      "source": [
        "import math"
      ],
      "metadata": {
        "id": "exoHpUMfbY-W"
      },
      "execution_count": 9,
      "outputs": []
    },
    {
      "cell_type": "code",
      "source": [
        "# 점 p를 원점을 기준으로 x축은 sx만큼, y축은 sy만큼 크기를 바꾼 점q를 구할 것\n",
        "# q = T(dx, dy) p1\n",
        "def scale(p, sx, sy):\n",
        "  # 1. 동차좌표계 (homogeneous coordinate)으로 변환\n",
        "  hp = np.array([p[0], p[1], 1.0])\n",
        "\n",
        "  # 2. 이동 변환 행렬 생성\n",
        "  m = np.array([[sx, 0.0, 0.0], [0.0, sy, 0.0], [0.0, 0.0, 1.0]])\n",
        "  \n",
        "  # 3. 행렬과 벡터의 곱\n",
        "  q = np.dot(m, hp)  # (3,3) x (3,1) -> (3,1)\n",
        "  #print(q)\n",
        "\n",
        "  # 4. 2차원 좌표계로 변환\n",
        "  q = np.array([q[0], q[1]])\n",
        "  return q"
      ],
      "metadata": {
        "id": "eFXJbl8rZafC"
      },
      "execution_count": 14,
      "outputs": []
    },
    {
      "cell_type": "code",
      "source": [
        "# 점 p를 x축을 기준으로 sx만큼 밀린 점 q를 구할 것\n",
        "# q = T(dx, dy) p1\n",
        "def shear_x(p, sx):\n",
        "  # 1. 동차좌표계 (homogeneous coordinate)으로 변환\n",
        "  hp = np.array([p[0], p[1], 1.0])\n",
        "\n",
        "  # 2. 이동 변환 행렬 생성\n",
        "  m = np.array([[1.0, sx, 0.0], [0.0, 1.0, 0.0], [0.0, 0.0, 1.0]])\n",
        "  \n",
        "  # 3. 행렬과 벡터의 곱\n",
        "  q = np.dot(m, hp)  # (3,3) x (3,1) -> (3,1)\n",
        "  #print(q)\n",
        "\n",
        "  # 4. 2차원 좌표계로 변환\n",
        "  q = np.array([q[0], q[1]])\n",
        "  return q"
      ],
      "metadata": {
        "id": "qpDqF_wxZaqk"
      },
      "execution_count": 29,
      "outputs": []
    },
    {
      "cell_type": "code",
      "source": [
        "# 점 p를 y축을 기준으로 sy만큼 밀린 점 q를 구할 것\n",
        "# q = T(dx, dy) p1\n",
        "def shear_y(p, sy):\n",
        "  # 1. 동차좌표계 (homogeneous coordinate)으로 변환\n",
        "  hp = np.array([p[0], p[1], 1.0])\n",
        "\n",
        "  # 2. 이동 변환 행렬 생성\n",
        "  m = np.array([[1.0, 0.0, 0.0], [sy, 1.0, 0.0], [0.0, 0.0, 1.0]])\n",
        "  \n",
        "  # 3. 행렬과 벡터의 곱\n",
        "  q = np.dot(m, hp)  # (3,3) x (3,1) -> (3,1)\n",
        "  #print(q)\n",
        "\n",
        "  # 4. 2차원 좌표계로 변환\n",
        "  q = np.array([q[0], q[1]])\n",
        "  return q"
      ],
      "metadata": {
        "id": "vDSrKXuFZayT"
      },
      "execution_count": 91,
      "outputs": []
    },
    {
      "cell_type": "code",
      "source": [
        "# 점 p를 x축을 기준으로 뒤집은 점 q를 구할 것\n",
        "# q = T(dx, dy) p1\n",
        "def reverse(p):\n",
        "  # 1. 동차좌표계 (homogeneous coordinate)으로 변환\n",
        "  hp = np.array([p[0], p[1], 1.0])\n",
        "\n",
        "  # 2. 이동 변환 행렬 생성\n",
        "  m = np.array([[1.0, 0.0, 0.0], [0.0, -1.0, 0.0], [0.0, 0.0, 1.0]])\n",
        "  \n",
        "  # 3. 행렬과 벡터의 곱\n",
        "  q = np.dot(m, hp)  # (3,3) x (3,1) -> (3,1)\n",
        "  #print(q)\n",
        "\n",
        "  # 4. 2차원 좌표계로 변환\n",
        "  q = np.array([q[0], q[1]])\n",
        "  return q"
      ],
      "metadata": {
        "id": "Gjs_GbGCZa6o"
      },
      "execution_count": 75,
      "outputs": []
    },
    {
      "cell_type": "markdown",
      "source": [
        "#### 2. 파트 그리기\n",
        "* draw_cockpit(p1, p2, p3, p4)    # 중앙 조종석\n",
        "* draw_left_arm(p1, p2, p3, p4)   # 왼쪽 날개축\n",
        "* draw_left_wing(p1, p2, p3, p4)  # 왼쪽 날개\n",
        "* draw_right_arm(p1, p2, p3, p4)  # 오른쪽 날개축\n",
        "* draw_right_wing(p1, p2, p3, p4) # 오른쪽 날개"
      ],
      "metadata": {
        "id": "E_jHSezpTC-9"
      }
    },
    {
      "cell_type": "code",
      "source": [
        "def draw_cockpit(ax, p1, p2, p3, p4):  # 중앙 조종석\n",
        "  # 1. 사각형을 원점으로 이동 변환: T(-LEN/2, -LEN/2)\n",
        "  # q = T(-LEN/2, -LEN/2)p\n",
        "  q1 = translate(p1, -LEN/2, -LEN/2)\n",
        "  q2 = translate(p2, -LEN/2, -LEN/2)\n",
        "  q3 = translate(p3, -LEN/2, -LEN/2)\n",
        "  q4 = translate(p4, -LEN/2, -LEN/2)\n",
        "\n",
        "  \n",
        "  # 2. 크기 변환: S(6.5, 6.5)\n",
        "  s = 6.5\n",
        "  q1 = scale(q1, s, s)\n",
        "  q2 = scale(q2, s, s)\n",
        "  q3 = scale(q3, s, s)\n",
        "  q4 = scale(q4, s, s)\n",
        "  \n",
        "  # 3. 회전 변환: R(pi/4)\n",
        "  q1 = rotate(q1, 3.14/4.0)\n",
        "  q2 = rotate(q2, 3.14/4.0)\n",
        "  q3 = rotate(q3, 3.14/4.0)\n",
        "  q4 = rotate(q4, 3.14/4.0)\n",
        "  \n",
        "\n",
        "  # 4. polygon 그리기 \n",
        "  draw_rectangle(ax, q1, q2, q3, q4)"
      ],
      "metadata": {
        "id": "6C7a4CH4HSj0"
      },
      "execution_count": 67,
      "outputs": []
    },
    {
      "cell_type": "code",
      "source": [
        "def draw_left_arm(ax, p1, p2, p3, p4): # 왼쪽 날개축\n",
        "  # 1. 사각형을 원점으로 이동 변환: T(-LEN/2, -LEN/2)\n",
        "  # q = T(-LEN/2, -LEN/2)p\n",
        "  q1 = translate(p1, -LEN/2, -LEN/2)\n",
        "  q2 = translate(p2, -LEN/2, -LEN/2)\n",
        "  q3 = translate(p3, -LEN/2, -LEN/2)\n",
        "  q4 = translate(p4, -LEN/2, -LEN/2)\n",
        "\n",
        "  \n",
        "  # 2. 크기 변환: S(5, 5)\n",
        "  s = 2.0\n",
        "  q1 = scale(q1, s, s)\n",
        "  q2 = scale(q2, s, s)\n",
        "  q3 = scale(q3, s, s)\n",
        "  q4 = scale(q4, s, s)\n",
        "  \n",
        "  # 3. 밀림: Shx(5)\n",
        "  q1 = shear_x(q1, 4.0)\n",
        "  q2 = shear_x(q2, 4.0)\n",
        "  q3 = shear_x(q3, 4.0)\n",
        "  q4 = shear_x(q4, 4.0)\n",
        "  \n",
        "  # 4. 사각형을 이동 변환: T(x, y)\n",
        "  # q = T(x, y)p\n",
        "  q1 = translate(q1, -LEN*5/2, +2/2*LEN)\n",
        "  q2 = translate(q2, -LEN*5/2, +2/2*LEN)\n",
        "  q3 = translate(q3, -LEN*5/2, +2/2*LEN)\n",
        "  q4 = translate(q4, -LEN*5/2, +2/2*LEN)\n",
        "\n",
        "  # 5. polygon 그리기 \n",
        "  draw_rectangle(ax, q1, q2, q3, q4)\n",
        "\n",
        "  q1 = reverse(q1)\n",
        "  q2 = reverse(q2)\n",
        "  q3 = reverse(q3)\n",
        "  q4 = reverse(q4)\n",
        "\n",
        "  draw_rectangle(ax, q1, q2, q3, q4)"
      ],
      "metadata": {
        "id": "VGLDMEuBePHw"
      },
      "execution_count": 70,
      "outputs": []
    },
    {
      "cell_type": "code",
      "source": [
        "def draw_right_arm(ax, p1, p2, p3, p4): # 오른쪽 날개축\n",
        "  # 1. 사각형을 원점으로 이동 변환: T(-LEN/2, -LEN/2)\n",
        "  # q = T(-LEN/2, -LEN/2)p\n",
        "  q1 = translate(p1, -LEN/2, -LEN/2)\n",
        "  q2 = translate(p2, -LEN/2, -LEN/2)\n",
        "  q3 = translate(p3, -LEN/2, -LEN/2)\n",
        "  q4 = translate(p4, -LEN/2, -LEN/2)\n",
        "\n",
        "  \n",
        "  # 2. 크기 변환: S(5, 5)\n",
        "  s = 2.0\n",
        "  q1 = scale(q1, s, s)\n",
        "  q2 = scale(q2, s, s)\n",
        "  q3 = scale(q3, s, s)\n",
        "  q4 = scale(q4, s, s)\n",
        "  \n",
        "  # 3. 밀림: Shx(5)\n",
        "  q1 = shear_x(q1, 4.0)\n",
        "  q2 = shear_x(q2, 4.0)\n",
        "  q3 = shear_x(q3, 4.0)\n",
        "  q4 = shear_x(q4, 4.0)\n",
        "  \n",
        "  # 4. 사각형을 이동 변환: T(x, y)\n",
        "  # q = T(x, y)p\n",
        "  q1 = translate(q1, +LEN*5/2, -2/2*LEN)\n",
        "  q2 = translate(q2, +LEN*5/2, -2/2*LEN)\n",
        "  q3 = translate(q3, +LEN*5/2, -2/2*LEN)\n",
        "  q4 = translate(q4, +LEN*5/2, -2/2*LEN)\n",
        "\n",
        "  # 5. polygon 그리기 \n",
        "  draw_rectangle(ax, q1, q2, q3, q4)\n",
        "\n",
        "  q1 = reverse(q1)\n",
        "  q2 = reverse(q2)\n",
        "  q3 = reverse(q3)\n",
        "  q4 = reverse(q4)\n",
        "\n",
        "  draw_rectangle(ax, q1, q2, q3, q4)"
      ],
      "metadata": {
        "id": "QcqhjU0bePQP"
      },
      "execution_count": 77,
      "outputs": []
    },
    {
      "cell_type": "code",
      "source": [
        "def draw_left_wing(ax, p1, p2, p3, p4):  # 왼쪽 날개\n",
        "  # 1. 사각형을 원점으로 이동 변환: T(-LEN/2, -LEN/2)\n",
        "  # q = T(-LEN/2, -LEN/2)p\n",
        "  q1 = translate(p1, -LEN/2, -LEN/2)\n",
        "  q2 = translate(p2, -LEN/2, -LEN/2)\n",
        "  q3 = translate(p3, -LEN/2, -LEN/2)\n",
        "  q4 = translate(p4, -LEN/2, -LEN/2)\n",
        "\n",
        "  \n",
        "  # 2. 크기 변환: S(6.5, 6.5)\n",
        "  s = 10.0\n",
        "  q1 = scale(q1, 1.0, s)\n",
        "  q2 = scale(q2, 1.0, s)\n",
        "  q3 = scale(q3, 1.0, s)\n",
        "  q4 = scale(q4, 1.0, s)\n",
        "  \n",
        "  # 3. 밀림: Shx(5)\n",
        "  q1 = shear_y(q1, 0.5)\n",
        "  q2 = shear_y(q2, 0.5)\n",
        "  q3 = shear_y(q3, 0.5)\n",
        "  q4 = shear_y(q4, 0.5)\n",
        "  \n",
        "  q1 = translate(q1, -LEN*7, -LEN/2)\n",
        "  q2 = translate(q2, -LEN*7, -LEN/2)\n",
        "  q3 = translate(q3, -LEN*7, -LEN/2)\n",
        "  q4 = translate(q4, -LEN*7, -LEN/2)\n",
        "\n",
        "  # 4. polygon 그리기 \n",
        "  draw_rectangle(ax, q1, q2, q3, q4)\n",
        "\n",
        "  q1 = reverse(q1)\n",
        "  q2 = reverse(q2)\n",
        "  q3 = reverse(q3)\n",
        "  q4 = reverse(q4)\n",
        "\n",
        "  draw_rectangle(ax, q1, q2, q3, q4)"
      ],
      "metadata": {
        "id": "82ETTk0KePWT"
      },
      "execution_count": 105,
      "outputs": []
    },
    {
      "cell_type": "code",
      "source": [
        "def draw_right_wing(ax, p1, p2, p3, p4):  # 오른쪽 날개\n",
        "  # 1. 사각형을 원점으로 이동 변환: T(-LEN/2, -LEN/2)\n",
        "  # q = T(-LEN/2, -LEN/2)p\n",
        "  q1 = translate(p1, -LEN/2, -LEN/2)\n",
        "  q2 = translate(p2, -LEN/2, -LEN/2)\n",
        "  q3 = translate(p3, -LEN/2, -LEN/2)\n",
        "  q4 = translate(p4, -LEN/2, -LEN/2)\n",
        "\n",
        "  \n",
        "  # 2. 크기 변환: S(6.5, 6.5)\n",
        "  s = 10.0\n",
        "  q1 = scale(q1, 1.0, s)\n",
        "  q2 = scale(q2, 1.0, s)\n",
        "  q3 = scale(q3, 1.0, s)\n",
        "  q4 = scale(q4, 1.0, s)\n",
        "  \n",
        "  # 3. 밀림: Shx(5)\n",
        "  q1 = shear_y(q1, 0.5)\n",
        "  q2 = shear_y(q2, 0.5)\n",
        "  q3 = shear_y(q3, 0.5)\n",
        "  q4 = shear_y(q4, 0.5)\n",
        "  \n",
        "  q1 = translate(q1, +LEN*7, +LEN/2)\n",
        "  q2 = translate(q2, +LEN*7, +LEN/2)\n",
        "  q3 = translate(q3, +LEN*7, +LEN/2)\n",
        "  q4 = translate(q4, +LEN*7, +LEN/2)\n",
        "\n",
        "  # 4. polygon 그리기 \n",
        "  draw_rectangle(ax, q1, q2, q3, q4)\n",
        "\n",
        "  q1 = reverse(q1)\n",
        "  q2 = reverse(q2)\n",
        "  q3 = reverse(q3)\n",
        "  q4 = reverse(q4)\n",
        "\n",
        "  draw_rectangle(ax, q1, q2, q3, q4)"
      ],
      "metadata": {
        "id": "gpIhGSs4ePb6"
      },
      "execution_count": 110,
      "outputs": []
    },
    {
      "cell_type": "code",
      "execution_count": 108,
      "metadata": {
        "id": "hMI0xB0pDlnU"
      },
      "outputs": [],
      "source": [
        "# 2. tiefigher 그리기\n",
        "def draw_object(ax):\n",
        "  p1 = np.array([0, 0])\n",
        "  p2 = np.array([LEN, 0])\n",
        "  p3 = np.array([LEN, LEN])\n",
        "  p4 = np.array([0, LEN])\n",
        "\n",
        "  # 1. 중앙 조종석 그리기\n",
        "  \n",
        "  draw_cockpit(ax, p1, p2, p3, p4)\n",
        "  draw_left_arm(ax, p1, p2, p3, p4)\n",
        "  draw_right_arm(ax, p1, p2, p3, p4)\n",
        "  draw_left_wing(ax, p1, p2, p3, p4)\n",
        "  draw_right_wing(ax, p1, p2, p3, p4)"
      ]
    },
    {
      "cell_type": "markdown",
      "source": [
        "### 3. main"
      ],
      "metadata": {
        "id": "24hO1zQaHiFJ"
      }
    },
    {
      "cell_type": "code",
      "source": [
        "# 그림판 선언 및 크기 설정\n",
        "fig, ax = plt.subplots(figsize=(7,7))\n",
        "\n",
        "# 축 그리기\n",
        "draw_axis(ax)\n",
        "\n",
        "# 물체 그리기\n",
        "draw_object(ax)\n",
        "\n",
        "plt.show()"
      ],
      "metadata": {
        "colab": {
          "base_uri": "https://localhost:8080/",
          "height": 605
        },
        "id": "1Bdz-KxWLLHb",
        "outputId": "667265f0-1f27-4331-adf2-eaa575146cbc"
      },
      "execution_count": 111,
      "outputs": [
        {
          "output_type": "display_data",
          "data": {
            "text/plain": [
              "<Figure size 700x700 with 1 Axes>"
            ],
            "image/png": "[encoded data removed]"
          },
          "metadata": {}
        }
      ]
    }
  ]
}