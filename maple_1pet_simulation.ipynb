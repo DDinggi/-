{
  "nbformat": 4,
  "nbformat_minor": 0,
  "metadata": {
    "colab": {
      "provenance": [],
      "authorship_tag": "ABX9TyMA2X1zrdCQMAd6YRIt0L5w",
      "include_colab_link": true
    },
    "kernelspec": {
      "name": "python3",
      "display_name": "Python 3"
    },
    "language_info": {
      "name": "python"
    }
  },
  "cells": [
    {
      "cell_type": "markdown",
      "metadata": {
        "id": "view-in-github",
        "colab_type": "text"
      },
      "source": [
        "<a href=\"https://colab.research.google.com/github/DDinggi/-/blob/main/maple_1pet_simulation.ipynb\" target=\"_parent\"><img src=\"https://colab.research.google.com/assets/colab-badge.svg\" alt=\"Open In Colab\"/></a>"
      ]
    },
    {
      "cell_type": "code",
      "source": [
        "import random\n",
        "import numpy as np\n",
        "import matplotlib.pyplot as plt\n",
        "\n",
        "Berry = 5400\n",
        "Black = 0.0996\n",
        "Crystal = 2980\n",
        "\n",
        "def simulation(s, p):\n",
        "    money = 0\n",
        "    wonder = 0\n",
        "    sweet = 0\n",
        "    d = s + p\n",
        "    money += buyBerry()\n",
        "    wonder += 1\n",
        "\n",
        "    while True:\n",
        "        if wonder == 0:\n",
        "            money += buyBerry()\n",
        "            wonder += 1\n",
        "        if sweet == 0:\n",
        "            if wonder == 0:\n",
        "                money += buyBerry()\n",
        "                wonder += 1\n",
        "        else:\n",
        "            sweet -= 1\n",
        "        wonder -= 1\n",
        "        money += Crystal\n",
        "        temp = random.random()\n",
        "        if temp < p:\n",
        "            break\n",
        "        if temp < d:\n",
        "            sweet += 1\n",
        "    return money\n",
        "\n",
        "def buyBerry():\n",
        "    price = 0\n",
        "    while random.random() >= Black:\n",
        "        price += Berry\n",
        "    return price\n",
        "\n",
        "def main():\n",
        "    random.seed()\n",
        "    results = []\n",
        "    for i in range(10000):\n",
        "        result = simulation(0.864, 0.1164)\n",
        "        results.append(result)\n",
        "\n",
        "    results = np.array(results)\n",
        "    percentiles = np.percentile(results, [10, 25, 50, 75, 90])\n",
        "\n",
        "    print(\"Percentiles:\")\n",
        "    for i, percentile in enumerate([10, 25, 50, 75, 90]):\n",
        "        print(f\"{percentile}%: {percentiles[i]}원\")\n",
        "\n",
        "if __name__ == '__main__':\n",
        "    main()\n",
        "\n"
      ],
      "metadata": {
        "colab": {
          "base_uri": "https://localhost:8080/",
          "height": 0
        },
        "id": "XB9vrbzngxD6",
        "outputId": "3b101e54-5f12-4d49-e66c-50e2daf49791"
      },
      "execution_count": 4,
      "outputs": [
        {
          "output_type": "stream",
          "name": "stdout",
          "text": [
            "Percentiles:\n",
            "10%: 49160.0원\n",
            "25%: 127180.0원\n",
            "50%: 303520.0원\n",
            "75%: 613000.0원\n",
            "90%: 1019232.0000000005원\n"
          ]
        }
      ]
    }
  ]
}